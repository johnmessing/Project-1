{
 "cells": [
  {
   "cell_type": "code",
   "execution_count": 11,
   "metadata": {},
   "outputs": [],
   "source": [
    "import yfinance as yf\n",
    "import pandas as pd\n",
    "import matplotlib.pyplot as plt\n",
    "import warnings\n",
    "import alpha_vantage\n",
    "from dotenv import load_dotenv\n",
    "import os"
   ]
  },
  {
   "cell_type": "code",
   "execution_count": 12,
   "metadata": {},
   "outputs": [
    {
     "data": {
      "text/plain": [
       "True"
      ]
     },
     "execution_count": 12,
     "metadata": {},
     "output_type": "execute_result"
    }
   ],
   "source": [
    "# Load .env file\n",
    "load_dotenv()"
   ]
  },
  {
   "cell_type": "code",
   "execution_count": 13,
   "metadata": {},
   "outputs": [],
   "source": [
    "# Set API key\n",
    "ALPHA_VANTAGE_API_KEY = os.getenv(\"ALPHA_VANTAGE_API_KEY\")"
   ]
  },
  {
   "cell_type": "code",
   "execution_count": 6,
   "metadata": {},
   "outputs": [],
   "source": [
    "# Suppress all future warnings\n",
    "warnings.filterwarnings(\"ignore\", category=FutureWarning)"
   ]
  },
  {
   "cell_type": "code",
   "execution_count": 7,
   "metadata": {},
   "outputs": [],
   "source": [
    "# Define a list of stock symbols\n",
    "stock_symbols = [\"JNJ\", \"PG\", \"KO\", \"MCD\", \"T\"]"
   ]
  },
  {
   "cell_type": "code",
   "execution_count": 14,
   "metadata": {},
   "outputs": [],
   "source": [
    "# Create a dictionary to store dividend history \n",
    "dividend_history = {}"
   ]
  },
  {
   "cell_type": "code",
   "execution_count": 15,
   "metadata": {},
   "outputs": [],
   "source": [
    "# Fetch dividend history for each stock\n",
    "for symbol in stock_symbols:\n",
    "    stock = yf.Ticker(symbol)\n",
    "    dividend_history[symbol] = stock.dividends"
   ]
  },
  {
   "cell_type": "code",
   "execution_count": 16,
   "metadata": {},
   "outputs": [
    {
     "name": "stdout",
     "output_type": "stream",
     "text": [
      "Dividend History for JNJ:\n",
      "Date\n",
      "1962-02-13 00:00:00-05:00    0.000579\n",
      "1962-05-22 00:00:00-04:00    0.000579\n",
      "1962-08-21 00:00:00-04:00    0.000579\n",
      "1962-11-21 00:00:00-05:00    0.000579\n",
      "1963-02-19 00:00:00-05:00    0.000810\n",
      "                               ...   \n",
      "2022-08-22 00:00:00-04:00    1.130000\n",
      "2022-11-21 00:00:00-05:00    1.130000\n",
      "2023-02-17 00:00:00-05:00    1.130000\n",
      "2023-05-22 00:00:00-04:00    1.190000\n",
      "2023-08-25 00:00:00-04:00    1.190000\n",
      "Name: Dividends, Length: 247, dtype: float64\n",
      "\n",
      "\n",
      "Dividend History for PG:\n",
      "Date\n",
      "1962-01-16 00:00:00-05:00    0.005859\n",
      "1962-04-16 00:00:00-05:00    0.005859\n",
      "1962-07-17 00:00:00-04:00    0.005859\n",
      "1962-10-16 00:00:00-04:00    0.005859\n",
      "1963-01-15 00:00:00-05:00    0.006250\n",
      "                               ...   \n",
      "2022-07-21 00:00:00-04:00    0.913000\n",
      "2022-10-20 00:00:00-04:00    0.913000\n",
      "2023-01-19 00:00:00-05:00    0.913000\n",
      "2023-04-20 00:00:00-04:00    0.941000\n",
      "2023-07-20 00:00:00-04:00    0.941000\n",
      "Name: Dividends, Length: 248, dtype: float64\n",
      "\n",
      "\n",
      "Dividend History for KO:\n",
      "Date\n",
      "1962-03-13 00:00:00-05:00    0.001563\n",
      "1962-06-11 00:00:00-04:00    0.001563\n",
      "1962-09-11 00:00:00-04:00    0.001563\n",
      "1962-11-28 00:00:00-05:00    0.001563\n",
      "1963-03-11 00:00:00-05:00    0.001758\n",
      "                               ...   \n",
      "2022-09-15 00:00:00-04:00    0.440000\n",
      "2022-11-30 00:00:00-05:00    0.440000\n",
      "2023-03-16 00:00:00-04:00    0.460000\n",
      "2023-06-15 00:00:00-04:00    0.460000\n",
      "2023-09-14 00:00:00-04:00    0.460000\n",
      "Name: Dividends, Length: 246, dtype: float64\n",
      "\n",
      "\n",
      "Dividend History for MCD:\n",
      "Date\n",
      "1968-05-24 00:00:00-04:00    0.001235\n",
      "1976-05-10 00:00:00-04:00    0.000617\n",
      "1976-07-16 00:00:00-04:00    0.000617\n",
      "1976-10-21 00:00:00-04:00    0.000617\n",
      "1977-02-14 00:00:00-05:00    0.000617\n",
      "                               ...   \n",
      "2022-08-31 00:00:00-04:00    1.380000\n",
      "2022-11-30 00:00:00-05:00    1.520000\n",
      "2023-02-28 00:00:00-05:00    1.520000\n",
      "2023-06-02 00:00:00-04:00    1.520000\n",
      "2023-08-31 00:00:00-04:00    1.520000\n",
      "Name: Dividends, Length: 167, dtype: float64\n",
      "\n",
      "\n",
      "Dividend History for T:\n",
      "Date\n",
      "1984-03-26 00:00:00-05:00    0.116667\n",
      "1984-06-25 00:00:00-04:00    0.116667\n",
      "1984-09-24 00:00:00-04:00    0.116667\n",
      "1985-01-04 00:00:00-05:00    0.116667\n",
      "1985-04-03 00:00:00-05:00    0.125000\n",
      "                               ...   \n",
      "2022-10-06 00:00:00-04:00    0.278000\n",
      "2023-01-09 00:00:00-05:00    0.278000\n",
      "2023-04-06 00:00:00-04:00    0.278000\n",
      "2023-07-07 00:00:00-04:00    0.278000\n",
      "2023-10-06 00:00:00-04:00    0.278000\n",
      "Name: Dividends, Length: 158, dtype: float64\n",
      "\n",
      "\n"
     ]
    }
   ],
   "source": [
    "for symbol, dividends in dividend_history.items():\n",
    "    print(f\"Dividend History for {symbol}:\")\n",
    "    print(dividends)\n",
    "    print(\"\\n\")"
   ]
  },
  {
   "cell_type": "code",
   "execution_count": 8,
   "metadata": {},
   "outputs": [],
   "source": [
    "# Create an empty dictionary to store the stock data\n",
    "stock_data = {}"
   ]
  },
  {
   "cell_type": "code",
   "execution_count": 9,
   "metadata": {},
   "outputs": [],
   "source": [
    "# Fetch the stock data for each stock symbol\n",
    "for symbol in stock_symbols:\n",
    "    stock = yf.Ticker(symbol)\n",
    "    stock_data[symbol] = {\n",
    "        \"Company Name\": stock.info.get(\"longName\"),\n",
    "        \"Current Price\": stock.history(period=\"1d\")[\"Close\"][0],\n",
    "        \"Dividend Yield\": stock.info.get(\"trailingAnnualDividendYield\"),\n",
    "        \"Dividend History\": stock.dividends,\n",
    "    }"
   ]
  },
  {
   "cell_type": "code",
   "execution_count": 10,
   "metadata": {},
   "outputs": [
    {
     "name": "stdout",
     "output_type": "stream",
     "text": [
      "Stock Symbol: JNJ\n",
      "Company Name: Johnson & Johnson\n",
      "Current Price: $158.36\n",
      "Dividend Yield: 2.89%\n",
      "Dividend History:\n",
      "Series([], Name: Dividends, dtype: float64)\n",
      "\n",
      "Stock Symbol: PG\n",
      "Company Name: The Procter & Gamble Company\n",
      "Current Price: $144.78\n",
      "Dividend Yield: 2.57%\n",
      "Dividend History:\n",
      "Series([], Name: Dividends, dtype: float64)\n",
      "\n",
      "Stock Symbol: KO\n",
      "Company Name: The Coca-Cola Company\n",
      "Current Price: $54.03\n",
      "Dividend Yield: 3.40%\n",
      "Dividend History:\n",
      "Series([], Name: Dividends, dtype: float64)\n",
      "\n",
      "Stock Symbol: MCD\n",
      "Company Name: McDonald's Corporation\n",
      "Current Price: $251.52\n",
      "Dividend Yield: 2.38%\n",
      "Dividend History:\n",
      "Series([], Name: Dividends, dtype: float64)\n",
      "\n",
      "Stock Symbol: T\n",
      "Company Name: AT&T Inc.\n",
      "Current Price: $14.96\n",
      "Dividend Yield: 7.54%\n",
      "Dividend History:\n",
      "Series([], Name: Dividends, dtype: float64)\n",
      "\n"
     ]
    }
   ],
   "source": [
    "# Print the retrieved data for each stock\n",
    "for symbol, data in stock_data.items():\n",
    "    print(f\"Stock Symbol: {symbol}\")\n",
    "    print(f\"Company Name: {data['Company Name']}\")\n",
    "    print(f\"Current Price: ${data['Current Price']:.2f}\")\n",
    "    print(f\"Dividend Yield: {data['Dividend Yield'] * 100:.2f}%\")\n",
    "    print(f\"Dividend History:\\n{data['Dividend History']}\\n\")"
   ]
  },
  {
   "cell_type": "code",
   "execution_count": null,
   "metadata": {},
   "outputs": [],
   "source": []
  }
 ],
 "metadata": {
  "kernelspec": {
   "display_name": "dev",
   "language": "python",
   "name": "python3"
  },
  "language_info": {
   "codemirror_mode": {
    "name": "ipython",
    "version": 3
   },
   "file_extension": ".py",
   "mimetype": "text/x-python",
   "name": "python",
   "nbconvert_exporter": "python",
   "pygments_lexer": "ipython3",
   "version": "3.10.12"
  }
 },
 "nbformat": 4,
 "nbformat_minor": 2
}
