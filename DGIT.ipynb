{
 "cells": [
  {
   "cell_type": "code",
   "execution_count": 2,
   "metadata": {},
   "outputs": [],
   "source": [
    "import yfinance as yf\n",
    "import pandas as pd\n",
    "import matplotlib.pyplot as plt\n",
    "import warnings\n",
    "import alpha_vantage"
   ]
  },
  {
   "cell_type": "code",
   "execution_count": 3,
   "metadata": {},
   "outputs": [],
   "source": [
    "# Suppress all future warnings\n",
    "warnings.filterwarnings(\"ignore\", category=FutureWarning)"
   ]
  },
  {
   "cell_type": "code",
   "execution_count": 4,
   "metadata": {},
   "outputs": [],
   "source": [
    "# Define a list of stock symbols\n",
    "stock_symbols = [\"JNJ\", \"PG\", \"KO\", \"MCD\", \"T\"]"
   ]
  },
  {
   "cell_type": "code",
   "execution_count": 5,
   "metadata": {},
   "outputs": [],
   "source": [
    "# Create an empty dictionary to store the stock data\n",
    "stock_data = {}"
   ]
  },
  {
   "cell_type": "code",
   "execution_count": 6,
   "metadata": {},
   "outputs": [],
   "source": [
    "# Fetch the stock data for each stock symbol\n",
    "for symbol in stock_symbols:\n",
    "    stock = yf.Ticker(symbol)\n",
    "    stock_data[symbol] = {\n",
    "        \"Company Name\": stock.info.get(\"longName\"),\n",
    "        \"Current Price\": stock.history(period=\"1d\")[\"Close\"][0],\n",
    "        \"Dividend Yield\": stock.info.get(\"trailingAnnualDividendYield\"),\n",
    "        \"Dividend History\": stock.dividends,\n",
    "    }"
   ]
  },
  {
   "cell_type": "code",
   "execution_count": 8,
   "metadata": {},
   "outputs": [
    {
     "name": "stdout",
     "output_type": "stream",
     "text": [
      "Stock Symbol: JNJ\n",
      "Company Name: Johnson & Johnson\n",
      "Current Price: $158.36\n",
      "Dividend Yield: 2.89%\n",
      "Dividend History:\n",
      "Series([], Name: Dividends, dtype: float64)\n",
      "\n",
      "Stock Symbol: PG\n",
      "Company Name: The Procter & Gamble Company\n",
      "Current Price: $144.78\n",
      "Dividend Yield: 2.57%\n",
      "Dividend History:\n",
      "Series([], Name: Dividends, dtype: float64)\n",
      "\n",
      "Stock Symbol: KO\n",
      "Company Name: The Coca-Cola Company\n",
      "Current Price: $54.03\n",
      "Dividend Yield: 3.40%\n",
      "Dividend History:\n",
      "Series([], Name: Dividends, dtype: float64)\n",
      "\n",
      "Stock Symbol: MCD\n",
      "Company Name: McDonald's Corporation\n",
      "Current Price: $251.52\n",
      "Dividend Yield: 2.38%\n",
      "Dividend History:\n",
      "Series([], Name: Dividends, dtype: float64)\n",
      "\n",
      "Stock Symbol: T\n",
      "Company Name: AT&T Inc.\n",
      "Current Price: $14.96\n",
      "Dividend Yield: 7.54%\n",
      "Dividend History:\n",
      "Series([], Name: Dividends, dtype: float64)\n",
      "\n"
     ]
    }
   ],
   "source": [
    "# Print the retrieved data for each stock\n",
    "for symbol, data in stock_data.items():\n",
    "    print(f\"Stock Symbol: {symbol}\")\n",
    "    print(f\"Company Name: {data['Company Name']}\")\n",
    "    print(f\"Current Price: ${data['Current Price']:.2f}\")\n",
    "    print(f\"Dividend Yield: {data['Dividend Yield'] * 100:.2f}%\")\n",
    "    print(f\"Dividend History:\\n{data['Dividend History']}\\n\")"
   ]
  },
  {
   "cell_type": "code",
   "execution_count": null,
   "metadata": {},
   "outputs": [],
   "source": []
  }
 ],
 "metadata": {
  "kernelspec": {
   "display_name": "dev",
   "language": "python",
   "name": "python3"
  },
  "language_info": {
   "codemirror_mode": {
    "name": "ipython",
    "version": 3
   },
   "file_extension": ".py",
   "mimetype": "text/x-python",
   "name": "python",
   "nbconvert_exporter": "python",
   "pygments_lexer": "ipython3",
   "version": "3.10.12"
  }
 },
 "nbformat": 4,
 "nbformat_minor": 2
}
