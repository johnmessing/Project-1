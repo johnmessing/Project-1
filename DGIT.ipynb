{
 "cells": [
  {
   "cell_type": "code",
   "execution_count": 7,
   "metadata": {},
   "outputs": [],
   "source": [
    "import yfinance as yf\n",
    "import pandas as pd\n",
    "import matplotlib.pyplot as plt\n",
    "import warnings\n",
    "from dotenv import load_dotenv\n",
    "import os\n",
    "from datetime import datetime, timedelta\n",
    "\n",
    "%matplotlib inline"
   ]
  },
  {
   "cell_type": "code",
   "execution_count": 8,
   "metadata": {},
   "outputs": [
    {
     "data": {
      "text/plain": [
       "True"
      ]
     },
     "execution_count": 8,
     "metadata": {},
     "output_type": "execute_result"
    }
   ],
   "source": [
    "# Load .env file\n",
    "load_dotenv()"
   ]
  },
  {
   "cell_type": "code",
   "execution_count": 9,
   "metadata": {},
   "outputs": [],
   "source": [
    "# Set API key\n",
    "ALPHA_VANTAGE_API_KEY = os.getenv(\"ALPHA_VANTAGE_API_KEY\")"
   ]
  },
  {
   "cell_type": "code",
   "execution_count": 10,
   "metadata": {},
   "outputs": [
    {
     "data": {
      "text/plain": [
       "'9GFIWFO5TNMUUB9XS'"
      ]
     },
     "execution_count": 10,
     "metadata": {},
     "output_type": "execute_result"
    }
   ],
   "source": [
    "# Verify API key is set\n",
    "ALPHA_VANTAGE_API_KEY"
   ]
  },
  {
   "cell_type": "code",
   "execution_count": 5,
   "metadata": {},
   "outputs": [],
   "source": [
    "# Suppress all future warnings\n",
    "warnings.filterwarnings(\"ignore\", category=FutureWarning)"
   ]
  },
  {
   "cell_type": "code",
   "execution_count": 6,
   "metadata": {},
   "outputs": [],
   "source": [
    "# Define a list of stock symbols\n",
    "stock_symbols = [\"JNJ\", \"PG\", \"KO\", \"MCD\", \"T\"]\n",
    "\n",
    "# Define a list of stock names\n",
    "stock_names = [\"Johnson & Johnson\", \"Procter & Gamble\", \"Coca-Cola\", \"McDonald's\", \"AT&T\"]\n",
    "\n",
    "# Define a list of stock colors\n",
    "stock_colors = [\"blue\", \"orange\", \"green\", \"red\", \"purple\"]\n",
    "\n",
    "# Define a list of stock weights\n",
    "stock_weights = [0.2, 0.2, 0.2, 0.2, 0.2]\n",
    "\n",
    "# Define a list of stock prices\n",
    "stock_prices = []\n",
    "\n",
    "# Define a list of stock volumes\n",
    "stock_volumes = []"
   ]
  },
  {
   "cell_type": "code",
   "execution_count": 11,
   "metadata": {},
   "outputs": [],
   "source": [
    "# Define the date range for 5 years of historical data\n",
    "start_date = datetime.now() - timedelta(days=5*365)\n",
    "end_date = datetime.now()"
   ]
  },
  {
   "cell_type": "code",
   "execution_count": 18,
   "metadata": {},
   "outputs": [
    {
     "name": "stdout",
     "output_type": "stream",
     "text": [
      "Current Price and Dividend Yield Data\n",
      "  Stock  Current Price  Dividend Yield\n",
      "0   JNJ     156.330002          0.0305\n",
      "1    PG     143.320007          0.0263\n",
      "2    KO      52.810001          0.0343\n",
      "3   MCD     246.190002          0.0266\n",
      "4     T      14.450000          0.0752\n"
     ]
    }
   ],
   "source": [
    "# Create an empty DataFrame to store the results\n",
    "stock_data = pd.DataFrame(columns=['Stock', 'Current Price', 'Dividend Yield'])\n",
    "\n",
    "# Iterate over each stock symbol\n",
    "for symbol in stock_symbols:\n",
    "    stock = yf.Ticker(symbol)\n",
    "\n",
    "    # Get the current price for the stock\n",
    "    current_price = stock.history(period=\"1d\")[\"Close\"][0]\n",
    "\n",
    "    # Get the dividend yield for the stock\n",
    "    dividend_yield = stock.info[\"dividendYield\"]\n",
    "\n",
    "    # Append the results to the DataFrame\n",
    "    stock_data = stock_data.append({\n",
    "        \"Stock\": symbol,\n",
    "        \"Current Price\": current_price,\n",
    "        \"Dividend Yield\": dividend_yield\n",
    "    }, ignore_index=True) # type: ignore\n",
    "    \n",
    "# Display the DataFrame with current price and dividend yield information\n",
    "print(\"Current Price and Dividend Yield Data\")\n",
    "print(stock_data)"
   ]
  },
  {
   "cell_type": "code",
   "execution_count": 24,
   "metadata": {},
   "outputs": [
    {
     "ename": "ValueError",
     "evalue": "No axis named 1 for object type Series",
     "output_type": "error",
     "traceback": [
      "\u001b[1;31m---------------------------------------------------------------------------\u001b[0m",
      "\u001b[1;31mKeyError\u001b[0m                                  Traceback (most recent call last)",
      "File \u001b[1;32mc:\\Users\\jackie\\anaconda3\\envs\\dev\\lib\\site-packages\\pandas\\core\\generic.py:554\u001b[0m, in \u001b[0;36mNDFrame._get_axis_number\u001b[1;34m(cls, axis)\u001b[0m\n\u001b[0;32m    553\u001b[0m \u001b[39mtry\u001b[39;00m:\n\u001b[1;32m--> 554\u001b[0m     \u001b[39mreturn\u001b[39;00m \u001b[39mcls\u001b[39;49m\u001b[39m.\u001b[39;49m_AXIS_TO_AXIS_NUMBER[axis]\n\u001b[0;32m    555\u001b[0m \u001b[39mexcept\u001b[39;00m \u001b[39mKeyError\u001b[39;00m:\n",
      "\u001b[1;31mKeyError\u001b[0m: 1",
      "\nDuring handling of the above exception, another exception occurred:\n",
      "\u001b[1;31mValueError\u001b[0m                                Traceback (most recent call last)",
      "\u001b[1;32mc:\\Users\\jackie\\Desktop\\MIA-VIRT-FIN-PT-08-2023-U-LOLC\\08-Project-1\\1\\DGIT.ipynb Cell 9\u001b[0m line \u001b[0;36m9\n\u001b[0;32m      <a href='vscode-notebook-cell:/c%3A/Users/jackie/Desktop/MIA-VIRT-FIN-PT-08-2023-U-LOLC/08-Project-1/1/DGIT.ipynb#Y100sZmlsZQ%3D%3D?line=5'>6</a>\u001b[0m dividends \u001b[39m=\u001b[39m stock\u001b[39m.\u001b[39mhistory(period\u001b[39m=\u001b[39m\u001b[39m\"\u001b[39m\u001b[39m1d\u001b[39m\u001b[39m\"\u001b[39m, start\u001b[39m=\u001b[39mstart_date, end\u001b[39m=\u001b[39mend_date)[\u001b[39m'\u001b[39m\u001b[39mDividends\u001b[39m\u001b[39m'\u001b[39m]\n\u001b[0;32m      <a href='vscode-notebook-cell:/c%3A/Users/jackie/Desktop/MIA-VIRT-FIN-PT-08-2023-U-LOLC/08-Project-1/1/DGIT.ipynb#Y100sZmlsZQ%3D%3D?line=7'>8</a>\u001b[0m \u001b[39m# Rename the column to the stock symbol for clarity\u001b[39;00m\n\u001b[1;32m----> <a href='vscode-notebook-cell:/c%3A/Users/jackie/Desktop/MIA-VIRT-FIN-PT-08-2023-U-LOLC/08-Project-1/1/DGIT.ipynb#Y100sZmlsZQ%3D%3D?line=8'>9</a>\u001b[0m dividends \u001b[39m=\u001b[39m dividends\u001b[39m.\u001b[39;49mrename({ \u001b[39m'\u001b[39;49m\u001b[39mDividends\u001b[39;49m\u001b[39m'\u001b[39;49m: symbol }, axis\u001b[39m=\u001b[39;49m\u001b[39m1\u001b[39;49m)\n\u001b[0;32m     <a href='vscode-notebook-cell:/c%3A/Users/jackie/Desktop/MIA-VIRT-FIN-PT-08-2023-U-LOLC/08-Project-1/1/DGIT.ipynb#Y100sZmlsZQ%3D%3D?line=10'>11</a>\u001b[0m \u001b[39m# Combine with the existing data\u001b[39;00m\n\u001b[0;32m     <a href='vscode-notebook-cell:/c%3A/Users/jackie/Desktop/MIA-VIRT-FIN-PT-08-2023-U-LOLC/08-Project-1/1/DGIT.ipynb#Y100sZmlsZQ%3D%3D?line=11'>12</a>\u001b[0m \u001b[39mif\u001b[39;00m dividend_history\u001b[39m.\u001b[39mempty:\n",
      "File \u001b[1;32mc:\\Users\\jackie\\anaconda3\\envs\\dev\\lib\\site-packages\\pandas\\core\\series.py:4990\u001b[0m, in \u001b[0;36mSeries.rename\u001b[1;34m(self, index, axis, copy, inplace, level, errors)\u001b[0m\n\u001b[0;32m   4923\u001b[0m \u001b[39m\u001b[39m\u001b[39m\"\"\"\u001b[39;00m\n\u001b[0;32m   4924\u001b[0m \u001b[39mAlter Series index labels or name.\u001b[39;00m\n\u001b[0;32m   4925\u001b[0m \n\u001b[1;32m   (...)\u001b[0m\n\u001b[0;32m   4986\u001b[0m \u001b[39mdtype: int64\u001b[39;00m\n\u001b[0;32m   4987\u001b[0m \u001b[39m\"\"\"\u001b[39;00m\n\u001b[0;32m   4988\u001b[0m \u001b[39mif\u001b[39;00m axis \u001b[39mis\u001b[39;00m \u001b[39mnot\u001b[39;00m \u001b[39mNone\u001b[39;00m:\n\u001b[0;32m   4989\u001b[0m     \u001b[39m# Make sure we raise if an invalid 'axis' is passed.\u001b[39;00m\n\u001b[1;32m-> 4990\u001b[0m     axis \u001b[39m=\u001b[39m \u001b[39mself\u001b[39;49m\u001b[39m.\u001b[39;49m_get_axis_number(axis)\n\u001b[0;32m   4992\u001b[0m \u001b[39mif\u001b[39;00m \u001b[39mcallable\u001b[39m(index) \u001b[39mor\u001b[39;00m is_dict_like(index):\n\u001b[0;32m   4993\u001b[0m     \u001b[39m# error: Argument 1 to \"_rename\" of \"NDFrame\" has incompatible\u001b[39;00m\n\u001b[0;32m   4994\u001b[0m     \u001b[39m# type \"Union[Union[Mapping[Any, Hashable], Callable[[Any],\u001b[39;00m\n\u001b[0;32m   4995\u001b[0m     \u001b[39m# Hashable]], Hashable, None]\"; expected \"Union[Mapping[Any,\u001b[39;00m\n\u001b[0;32m   4996\u001b[0m     \u001b[39m# Hashable], Callable[[Any], Hashable], None]\"\u001b[39;00m\n\u001b[0;32m   4997\u001b[0m     \u001b[39mreturn\u001b[39;00m \u001b[39msuper\u001b[39m()\u001b[39m.\u001b[39m_rename(\n\u001b[0;32m   4998\u001b[0m         index,  \u001b[39m# type: ignore[arg-type]\u001b[39;00m\n\u001b[0;32m   4999\u001b[0m         copy\u001b[39m=\u001b[39mcopy,\n\u001b[1;32m   (...)\u001b[0m\n\u001b[0;32m   5002\u001b[0m         errors\u001b[39m=\u001b[39merrors,\n\u001b[0;32m   5003\u001b[0m     )\n",
      "File \u001b[1;32mc:\\Users\\jackie\\anaconda3\\envs\\dev\\lib\\site-packages\\pandas\\core\\generic.py:556\u001b[0m, in \u001b[0;36mNDFrame._get_axis_number\u001b[1;34m(cls, axis)\u001b[0m\n\u001b[0;32m    554\u001b[0m     \u001b[39mreturn\u001b[39;00m \u001b[39mcls\u001b[39m\u001b[39m.\u001b[39m_AXIS_TO_AXIS_NUMBER[axis]\n\u001b[0;32m    555\u001b[0m \u001b[39mexcept\u001b[39;00m \u001b[39mKeyError\u001b[39;00m:\n\u001b[1;32m--> 556\u001b[0m     \u001b[39mraise\u001b[39;00m \u001b[39mValueError\u001b[39;00m(\u001b[39mf\u001b[39m\u001b[39m\"\u001b[39m\u001b[39mNo axis named \u001b[39m\u001b[39m{\u001b[39;00maxis\u001b[39m}\u001b[39;00m\u001b[39m for object type \u001b[39m\u001b[39m{\u001b[39;00m\u001b[39mcls\u001b[39m\u001b[39m.\u001b[39m\u001b[39m__name__\u001b[39m\u001b[39m}\u001b[39;00m\u001b[39m\"\u001b[39m)\n",
      "\u001b[1;31mValueError\u001b[0m: No axis named 1 for object type Series"
     ]
    }
   ],
   "source": [
    "# Retrieving hiosotrical data\n",
    "dividend_history = pd.DataFrame()\n",
    "\n",
    "for symbol in stock_symbols:\n",
    "    stock = yf.Ticker(symbol)\n",
    "    dividends = stock.history(period=\"1d\", start=start_date, end=end_date)['Dividends']\n",
    "    \n",
    "    # Rename the column to the stock symbol for clarity\n",
    "    dividends = dividends.rename({ 'Dividends': symbol }, axis=1)\n",
    "    \n",
    "    # Combine with the existing data\n",
    "    if dividend_history.empty:\n",
    "        dividend_history = dividends\n",
    "    else:\n",
    "        dividend_history = dividend_history.join(dividends)\n",
    "\n",
    "# Display the historical dividend growth over the past 5 years\n",
    "print(\"\\nHistorical Dividend Growth (Past 5 Years):\")\n",
    "print(dividend_history)"
   ]
  }
 ],
 "metadata": {
  "kernelspec": {
   "display_name": "dev",
   "language": "python",
   "name": "python3"
  },
  "language_info": {
   "codemirror_mode": {
    "name": "ipython",
    "version": 3
   },
   "file_extension": ".py",
   "mimetype": "text/x-python",
   "name": "python",
   "nbconvert_exporter": "python",
   "pygments_lexer": "ipython3",
   "version": "3.10.12"
  }
 },
 "nbformat": 4,
 "nbformat_minor": 2
}
