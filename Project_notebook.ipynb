{
 "cells": [
  {
   "cell_type": "code",
   "execution_count": 4,
   "metadata": {},
   "outputs": [],
   "source": [
    "import yfinance as yf\n",
    "import pandas as pd\n",
    "import matplotlib.pyplot as plt\n",
    "import warnings\n",
    "import alpha_vantage\n",
    "import os\n",
    "from datetime import datetime, timedelta\n",
    "from alpha_vantage.timeseries import TimeSeries"
   ]
  },
  {
   "cell_type": "code",
   "execution_count": 5,
   "metadata": {},
   "outputs": [
    {
     "ename": "NameError",
     "evalue": "name 'load_dotenv' is not defined",
     "output_type": "error",
     "traceback": [
      "\u001b[1;31m---------------------------------------------------------------------------\u001b[0m",
      "\u001b[1;31mNameError\u001b[0m                                 Traceback (most recent call last)",
      "\u001b[1;32mc:\\Users\\jackie\\Desktop\\MIA-VIRT-FIN-PT-08-2023-U-LOLC\\08-Project-1\\1\\Project_notebook.ipynb Cell 2\u001b[0m line \u001b[0;36m2\n\u001b[0;32m      <a href='vscode-notebook-cell:/c%3A/Users/jackie/Desktop/MIA-VIRT-FIN-PT-08-2023-U-LOLC/08-Project-1/1/Project_notebook.ipynb#W1sZmlsZQ%3D%3D?line=0'>1</a>\u001b[0m \u001b[39m# Load .env file\u001b[39;00m\n\u001b[1;32m----> <a href='vscode-notebook-cell:/c%3A/Users/jackie/Desktop/MIA-VIRT-FIN-PT-08-2023-U-LOLC/08-Project-1/1/Project_notebook.ipynb#W1sZmlsZQ%3D%3D?line=1'>2</a>\u001b[0m load_dotenv()\n",
      "\u001b[1;31mNameError\u001b[0m: name 'load_dotenv' is not defined"
     ]
    }
   ],
   "source": [
    "# Load .env file\n",
    "load_dotenv()"
   ]
  },
  {
   "cell_type": "code",
   "execution_count": null,
   "metadata": {},
   "outputs": [],
   "source": [
    "# Suppress all future warnings\n",
    "warnings.filterwarnings(\"ignore\", category=FutureWarning)"
   ]
  },
  {
   "cell_type": "code",
   "execution_count": null,
   "metadata": {},
   "outputs": [],
   "source": [
    "# Define a list of stock symbols\n",
    "stock_symbols = [\"JNJ\", \"PG\", \"KO\", \"MCD\", \"T\"]\n",
    "\n",
    "# Define a list of stock names\n",
    "stock_names = [\"Johnson & Johnson\", \"Procter & Gamble\", \"Coca-Cola\", \"McDonald's\", \"AT&T\"]\n",
    "\n",
    "# Define a list of stock colors\n",
    "stock_colors = [\"blue\", \"orange\", \"green\", \"red\", \"purple\"]\n",
    "\n",
    "# Define a list of stock weights\n",
    "stock_weights = [0.2, 0.2, 0.2, 0.2, 0.2]\n",
    "\n",
    "# Define a list of stock prices\n",
    "stock_prices = []\n",
    "\n",
    "# Define a list of stock volumes\n",
    "stock_volumes = []\n"
   ]
  },
  {
   "cell_type": "code",
   "execution_count": null,
   "metadata": {},
   "outputs": [],
   "source": [
    "# Define a function to pull stock data\n",
    "def pull_stock_data(stock_symbol):\n",
    "    # Define the timeframe\n",
    "    start_date = datetime.now() - timedelta(days=365)\n",
    "    end_date = datetime.now()\n",
    "\n",
    "    # Pull the data\n",
    "    stock_data = yf.download(stock_symbol, start=start_date, end=end_date)\n",
    "\n",
    "    # Append the stock price data\n",
    "    stock_prices.append(stock_data[\"Adj Close\"])\n",
    "\n",
    "    # Append the stock volume data\n",
    "    stock_volumes.append(stock_data[\"Volume\"])"
   ]
  },
  {
   "cell_type": "code",
   "execution_count": null,
   "metadata": {},
   "outputs": [],
   "source": [
    "# Create an empty dictionary to store the stock data\n",
    "stock_data = {}"
   ]
  },
  {
   "cell_type": "code",
   "execution_count": null,
   "metadata": {},
   "outputs": [],
   "source": [
    "# Fetch the stock data for each stock symbol\n",
    "for symbol in stock_symbols:\n",
    "    stock = yf.Ticker(symbol)\n",
    "    stock_data[symbol] = {\n",
    "        \"Company Name\": stock.info.get(\"longName\"),\n",
    "        \"Current Price\": stock.history(period=\"1d\")[\"Close\"][0],\n",
    "        \"Dividend Yield\": stock.info.get(\"trailingAnnualDividendYield\"),\n",
    "        \"Dividend History\": stock.dividends,\n",
    "    }"
   ]
  },
  {
   "cell_type": "code",
   "execution_count": null,
   "metadata": {},
   "outputs": [
    {
     "name": "stdout",
     "output_type": "stream",
     "text": [
      "Stock Symbol: payout_ratio\n"
     ]
    },
    {
     "ename": "TypeError",
     "evalue": "'float' object is not subscriptable",
     "output_type": "error",
     "traceback": [
      "\u001b[1;31m---------------------------------------------------------------------------\u001b[0m",
      "\u001b[1;31mTypeError\u001b[0m                                 Traceback (most recent call last)",
      "\u001b[1;32mc:\\Users\\jackie\\Desktop\\MIA-VIRT-FIN-PT-08-2023-U-LOLC\\08-Project-1\\1\\Project_notebook.ipynb Cell 9\u001b[0m line \u001b[0;36m4\n\u001b[0;32m      <a href='vscode-notebook-cell:/c%3A/Users/jackie/Desktop/MIA-VIRT-FIN-PT-08-2023-U-LOLC/08-Project-1/1/Project_notebook.ipynb#X10sZmlsZQ%3D%3D?line=1'>2</a>\u001b[0m \u001b[39mfor\u001b[39;00m symbol, data \u001b[39min\u001b[39;00m stock_data\u001b[39m.\u001b[39mitems():\n\u001b[0;32m      <a href='vscode-notebook-cell:/c%3A/Users/jackie/Desktop/MIA-VIRT-FIN-PT-08-2023-U-LOLC/08-Project-1/1/Project_notebook.ipynb#X10sZmlsZQ%3D%3D?line=2'>3</a>\u001b[0m     \u001b[39mprint\u001b[39m(\u001b[39mf\u001b[39m\u001b[39m\"\u001b[39m\u001b[39mStock Symbol: \u001b[39m\u001b[39m{\u001b[39;00msymbol\u001b[39m}\u001b[39;00m\u001b[39m\"\u001b[39m)\n\u001b[1;32m----> <a href='vscode-notebook-cell:/c%3A/Users/jackie/Desktop/MIA-VIRT-FIN-PT-08-2023-U-LOLC/08-Project-1/1/Project_notebook.ipynb#X10sZmlsZQ%3D%3D?line=3'>4</a>\u001b[0m     \u001b[39mprint\u001b[39m(\u001b[39mf\u001b[39m\u001b[39m\"\u001b[39m\u001b[39mCompany Name: \u001b[39m\u001b[39m{\u001b[39;00mdata[\u001b[39m'\u001b[39m\u001b[39mCompany Name\u001b[39m\u001b[39m'\u001b[39m]\u001b[39m}\u001b[39;00m\u001b[39m\"\u001b[39m)\n\u001b[0;32m      <a href='vscode-notebook-cell:/c%3A/Users/jackie/Desktop/MIA-VIRT-FIN-PT-08-2023-U-LOLC/08-Project-1/1/Project_notebook.ipynb#X10sZmlsZQ%3D%3D?line=4'>5</a>\u001b[0m     \u001b[39mprint\u001b[39m(\u001b[39mf\u001b[39m\u001b[39m\"\u001b[39m\u001b[39mCurrent Price: $\u001b[39m\u001b[39m{\u001b[39;00mdata[\u001b[39m'\u001b[39m\u001b[39mCurrent Price\u001b[39m\u001b[39m'\u001b[39m]\u001b[39m:\u001b[39;00m\u001b[39m.2f\u001b[39m\u001b[39m}\u001b[39;00m\u001b[39m\"\u001b[39m)\n\u001b[0;32m      <a href='vscode-notebook-cell:/c%3A/Users/jackie/Desktop/MIA-VIRT-FIN-PT-08-2023-U-LOLC/08-Project-1/1/Project_notebook.ipynb#X10sZmlsZQ%3D%3D?line=5'>6</a>\u001b[0m     \u001b[39mprint\u001b[39m(\u001b[39mf\u001b[39m\u001b[39m\"\u001b[39m\u001b[39mDividend Yield: \u001b[39m\u001b[39m{\u001b[39;00mdata[\u001b[39m'\u001b[39m\u001b[39mDividend Yield\u001b[39m\u001b[39m'\u001b[39m]\u001b[39m \u001b[39m\u001b[39m*\u001b[39m\u001b[39m \u001b[39m\u001b[39m100\u001b[39m\u001b[39m:\u001b[39;00m\u001b[39m.2f\u001b[39m\u001b[39m}\u001b[39;00m\u001b[39m%\u001b[39m\u001b[39m\"\u001b[39m)\n",
      "\u001b[1;31mTypeError\u001b[0m: 'float' object is not subscriptable"
     ]
    }
   ],
   "source": [
    "# Print the retrieved data for each stock\n",
    "for symbol, data in stock_data.items():\n",
    "    print(f\"Stock Symbol: {symbol}\")\n",
    "    print(f\"Company Name: {data['Company Name']}\")\n",
    "    print(f\"Current Price: ${data['Current Price']:.2f}\")\n",
    "    print(f\"Dividend Yield: {data['Dividend Yield'] * 100:.2f}%\")\n",
    "    print(f\"Dividend History:\\n{data['Dividend History']}\\n\")"
   ]
  },
  {
   "cell_type": "code",
   "execution_count": 1,
   "metadata": {},
   "outputs": [
    {
     "name": "stdout",
     "output_type": "stream",
     "text": [
      "Johnson & Johnson: Safe\n",
      "Procter & Gamble: Moderate Risk\n",
      "Coca-Cola: High Risk\n",
      "McDonald's: High Risk\n",
      "AT&T: High Risk\n"
     ]
    }
   ],
   "source": [
    "# Define a dictionary to store stock data\n",
    "stocks = {\n",
    "    \"Johnson & Johnson\": {\"payout_ratio\": 0.4, \"earnings_stability\": \"Stable\", \"debt_level\": \"Low\"},\n",
    "    \"Procter & Gamble\": {\"payout_ratio\": 0.6, \"earnings_stability\": \"Moderate\", \"debt_level\": \"Moderate\"},\n",
    "    \"Coca-Cola\": {\"payout_ratio\": 0.7, \"earnings_stability\": \"Fluctuating\", \"debt_level\": \"Moderate\"},\n",
    "    \"McDonald's\": {\"payout_ratio\": 0.5, \"earnings_stability\": \"Stable\", \"debt_level\": \"Low\"},\n",
    "    \"AT&T\": {\"payout_ratio\": 0.8, \"earnings_stability\": \"Fluctuating\", \"debt_level\": \"High\"}\n",
    "}\n",
    "\n",
    "# Function to calculate Dividend Safety Score\n",
    "def calculate_dividend_safety_score(stock):\n",
    "    payout_ratio = stock[\"payout_ratio\"]\n",
    "    earnings_stability = stock[\"earnings_stability\"]\n",
    "    debt_level = stock[\"debt_level\"]\n",
    "\n",
    "    if payout_ratio < 0.5 and earnings_stability == \"Stable\" and debt_level == \"Low\":\n",
    "        return \"Safe\"\n",
    "    elif payout_ratio < 0.75 and (earnings_stability == \"Stable\" or earnings_stability == \"Moderate\") and debt_level == \"Moderate\":\n",
    "        return \"Moderate Risk\"\n",
    "    else:\n",
    "        return \"High Risk\"\n",
    "\n",
    "# Calculate and print the Dividend Safety Score for each stock\n",
    "for stock_name, stock_data in stocks.items():\n",
    "    safety_score = calculate_dividend_safety_score(stock_data)\n",
    "    print(f\"{stock_name}: {safety_score}\")\n"
   ]
  }
 ],
 "metadata": {
  "kernelspec": {
   "display_name": "dev",
   "language": "python",
   "name": "python3"
  },
  "language_info": {
   "codemirror_mode": {
    "name": "ipython",
    "version": 3
   },
   "file_extension": ".py",
   "mimetype": "text/x-python",
   "name": "python",
   "nbconvert_exporter": "python",
   "pygments_lexer": "ipython3",
   "version": "3.10.12"
  },
  "orig_nbformat": 4
 },
 "nbformat": 4,
 "nbformat_minor": 2
}
